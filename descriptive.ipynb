{
 "cells": [
  {
   "cell_type": "markdown",
   "id": "5b2e2a0c",
   "metadata": {
    "ExecuteTime": {
     "end_time": "2021-12-19T10:12:43.271229Z",
     "start_time": "2021-12-19T10:12:42.639606Z"
    }
   },
   "source": [
    "# Setup"
   ]
  },
  {
   "cell_type": "code",
   "execution_count": 1,
   "id": "f194686c",
   "metadata": {
    "ExecuteTime": {
     "end_time": "2021-12-19T10:55:36.845595Z",
     "start_time": "2021-12-19T10:55:34.988622Z"
    }
   },
   "outputs": [],
   "source": [
    "import pandas as pd\n",
    "from pathlib import Path\n",
    "from matplotlib import pyplot as plt"
   ]
  },
  {
   "cell_type": "code",
   "execution_count": 2,
   "id": "653c2701",
   "metadata": {
    "ExecuteTime": {
     "end_time": "2021-12-19T10:55:36.861166Z",
     "start_time": "2021-12-19T10:55:36.845595Z"
    }
   },
   "outputs": [],
   "source": [
    "import matplotlib\n",
    "matplotlib.rc('font', size=10)"
   ]
  },
  {
   "cell_type": "code",
   "execution_count": 3,
   "id": "0b83b222",
   "metadata": {
    "ExecuteTime": {
     "end_time": "2021-12-19T10:55:36.923402Z",
     "start_time": "2021-12-19T10:55:36.872378Z"
    }
   },
   "outputs": [],
   "source": [
    "import matplotlib\n",
    "matplotlib.use(\"pgf\")\n",
    "matplotlib.rcParams.update({\n",
    "    \"pgf.texsystem\": \"pdflatex\",\n",
    "    'font.family': 'serif',\n",
    "    'text.usetex': True,\n",
    "    'pgf.rcfonts': False,\n",
    "})\n",
    "\n",
    "import os\n",
    "os.environ[\"PATH\"] += ';C:\\\\Users\\\\papse\\\\AppData\\\\Local\\\\Programs\\\\MiKTeX\\\\miktex\\\\bin\\\\x64'"
   ]
  },
  {
   "cell_type": "code",
   "execution_count": 4,
   "id": "8a607c11",
   "metadata": {
    "ExecuteTime": {
     "end_time": "2021-12-19T10:55:46.128310Z",
     "start_time": "2021-12-19T10:55:36.927345Z"
    }
   },
   "outputs": [],
   "source": [
    "gss_table = pd.read_stata(Path('./data/gss_data.dta'))\n",
    "video_table = pd.read_parquet(Path('./data/video_data.parquet'))\n",
    "traffic_table = pd.read_parquet(Path('./data/traffic_data.parquet'))\n",
    "category_table = pd.read_parquet(Path('./data/category_data.parquet'))\n",
    "population_table = pd.read_parquet(Path('./data/population_data.parquet'))"
   ]
  },
  {
   "cell_type": "markdown",
   "id": "3d8ac344",
   "metadata": {
    "ExecuteTime": {
     "end_time": "2021-12-19T10:18:08.257040Z",
     "start_time": "2021-12-19T10:18:08.234036Z"
    }
   },
   "source": [
    "# Traffic"
   ]
  },
  {
   "cell_type": "code",
   "execution_count": 5,
   "id": "44cc24c9",
   "metadata": {
    "ExecuteTime": {
     "end_time": "2021-12-19T10:55:47.906287Z",
     "start_time": "2021-12-19T10:55:46.128310Z"
    }
   },
   "outputs": [
    {
     "data": {
      "text/plain": [
       "<matplotlib.legend.Legend at 0x2883aa15d60>"
      ]
     },
     "execution_count": 5,
     "metadata": {},
     "output_type": "execute_result"
    }
   ],
   "source": [
    "fig, axes = plt.subplots(figsize = [16,4])\n",
    "axes.plot(traffic_table.iloc[57:, :].index, traffic_table.iloc[57:, :]['traffic_world'], label = 'Összesen')\n",
    "axes.plot(traffic_table.iloc[57:, :].index, traffic_table.iloc[57:, :]['traffic_usa'], label = 'USA')\n",
    "\n",
    "fig.set_size_inches(w = 6.30045, h = 6.30045 / 4)\n",
    "\n",
    "axes.set_ylabel('Forgalom')\n",
    "\n",
    "fig.legend(\n",
    "    bbox_to_anchor=(0, -0.25, 1, 0.2),\n",
    "    loc=\"center\",\n",
    "    ncol=2,\n",
    "    framealpha=0,\n",
    "    borderaxespad=0,\n",
    ")"
   ]
  },
  {
   "cell_type": "code",
   "execution_count": 6,
   "id": "5f45e7f0",
   "metadata": {
    "ExecuteTime": {
     "end_time": "2021-12-19T10:55:48.074022Z",
     "start_time": "2021-12-19T10:55:47.908672Z"
    }
   },
   "outputs": [],
   "source": [
    "fig.savefig(Path('./figures/traffic_series.pgf'), bbox_inches='tight')"
   ]
  },
  {
   "cell_type": "markdown",
   "id": "9ca865f3",
   "metadata": {},
   "source": [
    "# Video"
   ]
  },
  {
   "cell_type": "code",
   "execution_count": 7,
   "id": "2acb511f",
   "metadata": {
    "ExecuteTime": {
     "end_time": "2021-12-19T10:55:49.423232Z",
     "start_time": "2021-12-19T10:55:48.074022Z"
    }
   },
   "outputs": [],
   "source": [
    "data_to_viz = (\n",
    "    video_table.reset_index()\n",
    "    .set_index(\"date\")\n",
    "    .groupby(pd.Grouper(freq=\"m\"))\n",
    "    .agg(video_num=(\"video_id\", \"count\"), view=(\"view\", \"sum\"))\n",
    ")"
   ]
  },
  {
   "cell_type": "code",
   "execution_count": 8,
   "id": "71e5ae76",
   "metadata": {
    "ExecuteTime": {
     "end_time": "2021-12-19T10:55:49.611284Z",
     "start_time": "2021-12-19T10:55:49.423232Z"
    }
   },
   "outputs": [
    {
     "data": {
      "text/plain": [
       "<matplotlib.legend.Legend at 0x2885fd7d550>"
      ]
     },
     "execution_count": 8,
     "metadata": {},
     "output_type": "execute_result"
    }
   ],
   "source": [
    "fig, axes = plt.subplots()\n",
    "fig.set_size_inches(w = 6.30045, h = 6.30045 / 4)\n",
    "\n",
    "axes.plot(data_to_viz.index, data_to_viz.video_num, label = 'Videók száma')\n",
    "\n",
    "axes_2 = axes.twinx()\n",
    "axes_2.plot(\n",
    "    data_to_viz.index, data_to_viz.view, label=\"Nézettség\", color=\"darkorange\"\n",
    ")\n",
    "\n",
    "axes.ticklabel_format(style=\"sci\", axis=\"y\", scilimits=(0, 0))\n",
    "\n",
    "axes.set_ylabel('Videók száma')\n",
    "axes_2.set_ylabel('Nézettség \\n2020-ban')\n",
    "\n",
    "fig.legend(\n",
    "    bbox_to_anchor=(0, -0.25, 1, 0.2),\n",
    "    loc=\"center\",\n",
    "    ncol=2,\n",
    "    framealpha=0,\n",
    "    borderaxespad=0,\n",
    ")"
   ]
  },
  {
   "cell_type": "code",
   "execution_count": 9,
   "id": "d0a81ff3",
   "metadata": {
    "ExecuteTime": {
     "end_time": "2021-12-19T10:55:49.855554Z",
     "start_time": "2021-12-19T10:55:49.611284Z"
    }
   },
   "outputs": [],
   "source": [
    "fig.savefig(Path('./figures/video_all_series.pgf'), bbox_inches='tight')"
   ]
  },
  {
   "cell_type": "code",
   "execution_count": 10,
   "id": "97552cd7",
   "metadata": {
    "ExecuteTime": {
     "end_time": "2021-12-19T10:55:49.870993Z",
     "start_time": "2021-12-19T10:55:49.855554Z"
    }
   },
   "outputs": [],
   "source": [
    "rename_cat = lambda x: {\n",
    "    \"Amateur\": \"Amateur\",\n",
    "    \"Verified Amateurs\": \"Amateur\",\n",
    "    \"Lesbian\": \"Gay\",\n",
    "    \"Hardcore\": \"Hardcore\",\n",
    "    \"Gay\": \"Gay\",\n",
    "}[x]"
   ]
  },
  {
   "cell_type": "code",
   "execution_count": 11,
   "id": "02f69f4a",
   "metadata": {
    "ExecuteTime": {
     "end_time": "2021-12-19T10:56:16.992605Z",
     "start_time": "2021-12-19T10:55:49.874992Z"
    }
   },
   "outputs": [],
   "source": [
    "data_to_viz = (\n",
    "    category_table[\n",
    "        lambda df: df[\"category\"].isin(\n",
    "            [\"Hardcore\", \"Amateur\", \"Verified Amateurs\", \"Lesbian\", \"Gay\"]\n",
    "        )\n",
    "    ]\n",
    "    .assign(category=lambda df: df[\"category\"].apply(rename_cat))\n",
    "    .reset_index()\n",
    "    .drop_duplicates()\n",
    "    .set_index(\"video_id\")\n",
    "    .join(video_table[[\"view\", \"date\"]])\n",
    "    .reset_index()\n",
    "    .set_index(\"date\")\n",
    "    .groupby([pd.Grouper(freq=\"m\"), \"category\"])[\"video_id\"]\n",
    "    .count()\n",
    ")"
   ]
  },
  {
   "cell_type": "code",
   "execution_count": 12,
   "id": "f184476d",
   "metadata": {
    "ExecuteTime": {
     "end_time": "2021-12-19T10:56:17.207856Z",
     "start_time": "2021-12-19T10:56:16.992605Z"
    }
   },
   "outputs": [
    {
     "data": {
      "text/plain": [
       "<matplotlib.legend.Legend at 0x2885fcf7550>"
      ]
     },
     "execution_count": 12,
     "metadata": {},
     "output_type": "execute_result"
    }
   ],
   "source": [
    "fig, axes = plt.subplots(figsize = [16,4])\n",
    "\n",
    "axes.plot(data_to_viz[slice(None), 'Amateur'].index, data_to_viz[slice(None), 'Amateur'], label = 'Amatőr')\n",
    "axes.plot(data_to_viz[slice(None), 'Gay'].index, data_to_viz[slice(None), 'Gay'], label = 'Homoszexuális')\n",
    "axes.plot(data_to_viz[slice(None), 'Hardcore'].index, data_to_viz[slice(None), 'Hardcore'], label = 'Hardcore')\n",
    "\n",
    "fig.set_size_inches(w = 6.30045, h = 6.30045 / 4)\n",
    "\n",
    "axes.set_ylabel('Videók száma')\n",
    "\n",
    "axes.ticklabel_format(style=\"sci\", axis=\"y\", scilimits=(0, 0))\n",
    "\n",
    "fig.legend(\n",
    "    bbox_to_anchor=(0, -0.25, 1, 0.2),\n",
    "    loc=\"center\",\n",
    "    ncol=3,\n",
    "    framealpha=0,\n",
    "    borderaxespad=0,\n",
    ")"
   ]
  },
  {
   "cell_type": "code",
   "execution_count": 13,
   "id": "6c0171da",
   "metadata": {
    "ExecuteTime": {
     "end_time": "2021-12-19T10:56:17.405282Z",
     "start_time": "2021-12-19T10:56:17.219856Z"
    }
   },
   "outputs": [],
   "source": [
    "fig.savefig(Path('./figures/video_cat_series.pgf'), bbox_inches='tight')"
   ]
  }
 ],
 "metadata": {
  "kernelspec": {
   "display_name": "Python 3 (ipykernel)",
   "language": "python",
   "name": "python3"
  },
  "language_info": {
   "codemirror_mode": {
    "name": "ipython",
    "version": 3
   },
   "file_extension": ".py",
   "mimetype": "text/x-python",
   "name": "python",
   "nbconvert_exporter": "python",
   "pygments_lexer": "ipython3",
   "version": "3.9.6"
  },
  "latex_envs": {
   "LaTeX_envs_menu_present": true,
   "autoclose": false,
   "autocomplete": true,
   "bibliofile": "biblio.bib",
   "cite_by": "apalike",
   "current_citInitial": 1,
   "eqLabelWithNumbers": true,
   "eqNumInitial": 1,
   "hotkeys": {
    "equation": "Ctrl-E",
    "itemize": "Ctrl-I"
   },
   "labels_anchors": false,
   "latex_user_defs": false,
   "report_style_numbering": false,
   "user_envs_cfg": false
  },
  "toc": {
   "base_numbering": 1,
   "nav_menu": {},
   "number_sections": true,
   "sideBar": true,
   "skip_h1_title": false,
   "title_cell": "Table of Contents",
   "title_sidebar": "Contents",
   "toc_cell": false,
   "toc_position": {},
   "toc_section_display": true,
   "toc_window_display": false
  }
 },
 "nbformat": 4,
 "nbformat_minor": 5
}
