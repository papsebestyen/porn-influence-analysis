{
 "cells": [
  {
   "cell_type": "markdown",
   "id": "84f42c6f",
   "metadata": {},
   "source": [
    "# Setup"
   ]
  },
  {
   "cell_type": "code",
   "execution_count": 1,
   "id": "feb8f326",
   "metadata": {
    "ExecuteTime": {
     "end_time": "2021-12-19T15:40:39.478951Z",
     "start_time": "2021-12-19T15:40:37.757253Z"
    }
   },
   "outputs": [],
   "source": [
    "import pandas as pd\n",
    "from matplotlib import pyplot as plt\n",
    "from pathlib import Path\n",
    "import numpy as np\n",
    "from datetime import datetime"
   ]
  },
  {
   "cell_type": "markdown",
   "id": "4ee3835d",
   "metadata": {
    "ExecuteTime": {
     "end_time": "2021-12-19T01:29:24.761409Z",
     "start_time": "2021-12-19T01:29:24.743418Z"
    }
   },
   "source": [
    "setup matplotlib for LaTeX"
   ]
  },
  {
   "cell_type": "code",
   "execution_count": 2,
   "id": "b4e12ac7",
   "metadata": {
    "ExecuteTime": {
     "end_time": "2021-12-19T15:40:39.494946Z",
     "start_time": "2021-12-19T15:40:39.484952Z"
    }
   },
   "outputs": [],
   "source": [
    "import matplotlib\n",
    "matplotlib.rc('font', size=10)"
   ]
  },
  {
   "cell_type": "code",
   "execution_count": 3,
   "id": "c2053f42",
   "metadata": {
    "ExecuteTime": {
     "end_time": "2021-12-19T15:40:39.571902Z",
     "start_time": "2021-12-19T15:40:39.498944Z"
    }
   },
   "outputs": [],
   "source": [
    "import matplotlib\n",
    "matplotlib.use(\"pgf\")\n",
    "matplotlib.rcParams.update({\n",
    "    \"pgf.texsystem\": \"pdflatex\",\n",
    "    'font.family': 'serif',\n",
    "    'text.usetex': True,\n",
    "    'pgf.rcfonts': False,\n",
    "})\n",
    "\n",
    "import os\n",
    "os.environ[\"PATH\"] += ';C:\\\\Users\\\\papse\\\\AppData\\\\Local\\\\Programs\\\\MiKTeX\\\\miktex\\\\bin\\\\x64'"
   ]
  },
  {
   "cell_type": "code",
   "execution_count": 4,
   "id": "3bd2781f",
   "metadata": {
    "ExecuteTime": {
     "end_time": "2021-12-19T15:40:49.787210Z",
     "start_time": "2021-12-19T15:40:39.577900Z"
    }
   },
   "outputs": [],
   "source": [
    "gss_table = pd.read_stata(Path('./data/gss_data.dta'))\n",
    "video_table = pd.read_parquet(Path('./data/video_data.parquet'))\n",
    "traffic_table = pd.read_parquet(Path('./data/traffic_data.parquet'))\n",
    "category_table = pd.read_parquet(Path('./data/category_data.parquet'))\n",
    "population_table = pd.read_parquet(Path('./data/population_data.parquet'))"
   ]
  },
  {
   "cell_type": "markdown",
   "id": "23997925",
   "metadata": {},
   "source": [
    "# Condom and porn"
   ]
  },
  {
   "cell_type": "code",
   "execution_count": 5,
   "id": "a55ca014",
   "metadata": {
    "ExecuteTime": {
     "end_time": "2021-12-19T15:40:49.942000Z",
     "start_time": "2021-12-19T15:40:49.787210Z"
    }
   },
   "outputs": [],
   "source": [
    "data_to_viz_condom = (\n",
    "    gss_table\n",
    "#     .assign(year = lambda df: df['year'].apply(lambda x: datetime(x, 1,1)))\n",
    "    .groupby([\"year\", \"sex\", \"condom\"])\n",
    "    .agg(count=(\"id\", \"count\"))\n",
    "    .pipe(\n",
    "        lambda df: df.reset_index()\n",
    "        .set_index([\"year\", \"sex\"])\n",
    "        .join(df.reset_index().groupby([\"year\", \"sex\"]).agg(total=(\"count\", \"sum\")))\n",
    "    )\n",
    "    .assign(ratio=lambda df: df[\"count\"] / df[\"total\"])\n",
    "    .set_index('condom', append=True)\n",
    "    ['ratio']\n",
    ")"
   ]
  },
  {
   "cell_type": "code",
   "execution_count": 6,
   "id": "bb88ce36",
   "metadata": {
    "ExecuteTime": {
     "end_time": "2021-12-19T15:41:05.208432Z",
     "start_time": "2021-12-19T15:40:49.948996Z"
    }
   },
   "outputs": [],
   "source": [
    "data_to_viz_porn = (\n",
    "    video_table.groupby(\"date_m\")\n",
    "    .first()\n",
    "    .index.to_series()\n",
    "    .apply(\n",
    "        lambda date: (\n",
    "            video_table[lambda df: df[\"date_m\"] <= date][\"view_per_traffic\"]\n",
    "            * traffic_table[lambda df: df.index.to_series() == date][\n",
    "                \"traffic_usa\"\n",
    "            ].sum()\n",
    "        ).sum()\n",
    "    )\n",
    "    .to_frame()\n",
    "    .assign(\n",
    "        year=lambda df: df.index.to_series().dt.year,\n",
    "        month=lambda df: df.index.to_series().dt.month,\n",
    "    )\n",
    "    .pipe(lambda df: pd.merge(df, population_table, on=[\"year\", \"month\"]))\n",
    "    .groupby(\"year\")\n",
    "    .agg(views=(\"date_m\", \"sum\"), population=(\"population\", \"mean\"))\n",
    "    .assign(views_pop=lambda df: df[\"views\"] / df[\"population\"])[\"views_pop\"]\n",
    ")"
   ]
  },
  {
   "cell_type": "code",
   "execution_count": 7,
   "id": "3d135132",
   "metadata": {
    "ExecuteTime": {
     "end_time": "2021-12-19T15:41:08.943631Z",
     "start_time": "2021-12-19T15:41:05.208432Z"
    },
    "scrolled": true
   },
   "outputs": [
    {
     "name": "stderr",
     "output_type": "stream",
     "text": [
      "C:\\Users\\papse\\AppData\\Local\\Temp/ipykernel_15020/888478334.py:54: UserWarning: Matplotlib is currently using pgf, which is a non-GUI backend, so cannot show the figure.\n",
      "  plt.show()\n"
     ]
    }
   ],
   "source": [
    "labels = data_to_viz_condom[slice(None), \"male\", \"used last time\"].index\n",
    "men_means = data_to_viz_condom[slice(None), \"male\", \"used last time\"].values.round(2)\n",
    "women_means = data_to_viz_condom[slice(None), \"female\", \"used last time\"].values.round(\n",
    "    2\n",
    ")\n",
    "\n",
    "x = labels  # the label locations\n",
    "width = 0.7  # the width of the bars\n",
    "\n",
    "fig, axes = plt.subplots()\n",
    "fig.set_size_inches(w=6.30045, h=6.30045 / 4)\n",
    "rects1 = axes.bar(x - width / 2, men_means, width, label=\"Férfi\")\n",
    "rects2 = axes.bar(x + width / 2, women_means, width, label=\"Nő\")\n",
    "\n",
    "axes.set_xticks(x)\n",
    "\n",
    "axes_2 = axes.twinx()\n",
    "axes_2.plot(\n",
    "    data_to_viz_porn.index, data_to_viz_porn, label=\"Összes nézettség\", color=\"black\"\n",
    ")\n",
    "\n",
    "axes.legend(\n",
    "    bbox_to_anchor=(0, -0.5, 1, 0.2),\n",
    "    loc=\"center\",\n",
    "    ncol=2,\n",
    "    framealpha=0,\n",
    "    borderaxespad=0,\n",
    ")\n",
    "\n",
    "axes_2.ticklabel_format(style=\"sci\", axis=\"y\", scilimits=(0, 0))\n",
    "\n",
    "axes.bar_label(\n",
    "    rects1,\n",
    "    padding=0,\n",
    "    fontsize=8,\n",
    "    label_type=\"center\",\n",
    "    color=\"white\",\n",
    "    rotation=90,\n",
    "#     fmt=\"%.2f%%\",\n",
    ")\n",
    "axes.bar_label(\n",
    "    rects2,\n",
    "    padding=0,\n",
    "    fontsize=8,\n",
    "    label_type=\"center\",\n",
    "    color=\"white\",\n",
    "    rotation=90,\n",
    "#     fmt=\"%.2f%%\",\n",
    ")\n",
    "\n",
    "axes.set_ylabel(\"Óvszerhasználat \\n(%)\")\n",
    "axes_2.set_ylabel(\"Nézettség \\n(1000 fő)\")\n",
    "\n",
    "plt.show()"
   ]
  },
  {
   "cell_type": "code",
   "execution_count": 8,
   "id": "7773c1e6",
   "metadata": {
    "ExecuteTime": {
     "end_time": "2021-12-19T15:41:09.557241Z",
     "start_time": "2021-12-19T15:41:08.949270Z"
    }
   },
   "outputs": [],
   "source": [
    "fig.savefig(Path('./figures/condom_view.pgf'), bbox_inches='tight')"
   ]
  },
  {
   "cell_type": "code",
   "execution_count": 9,
   "id": "61054876",
   "metadata": {
    "ExecuteTime": {
     "end_time": "2021-12-19T15:42:02.851769Z",
     "start_time": "2021-12-19T15:41:09.557241Z"
    },
    "code_folding": []
   },
   "outputs": [],
   "source": [
    "data_to_viz_porn_amateur = (\n",
    "    video_table.join(category_table)[\n",
    "        lambda df: df[\"category\"].isin([\"Amateur\", \"Verified Amateurs\"])\n",
    "    ]\n",
    "    .groupby(level=0)\n",
    "    .first()\n",
    "    .pipe(\n",
    "        lambda table: table.groupby(\"date_m\")\n",
    "        .first()\n",
    "        .index.to_series()\n",
    "        .apply(\n",
    "            lambda date: (\n",
    "                table[lambda df: df[\"date_m\"] <= date][\"view_per_traffic\"]\n",
    "                * traffic_table[lambda df: df.index.to_series() == date][\n",
    "                    \"traffic_usa\"\n",
    "                ].sum()\n",
    "            ).sum()\n",
    "        )\n",
    "        .to_frame()\n",
    "        .assign(\n",
    "            year=lambda df: df.index.to_series().dt.year,\n",
    "            month=lambda df: df.index.to_series().dt.month,\n",
    "        )\n",
    "        .pipe(lambda df: pd.merge(df, population_table, on=[\"year\", \"month\"]))\n",
    "        .groupby(\"year\")\n",
    "        .agg(views=(\"date_m\", \"sum\"), population=(\"population\", \"mean\"))\n",
    "        .assign(views_pop=lambda df: df[\"views\"] / df[\"population\"])[\"views_pop\"]\n",
    "    )\n",
    ")"
   ]
  },
  {
   "cell_type": "code",
   "execution_count": 10,
   "id": "2a169ec6",
   "metadata": {
    "ExecuteTime": {
     "end_time": "2021-12-19T15:42:03.251096Z",
     "start_time": "2021-12-19T15:42:02.851769Z"
    },
    "scrolled": true
   },
   "outputs": [
    {
     "name": "stderr",
     "output_type": "stream",
     "text": [
      "C:\\Users\\papse\\AppData\\Local\\Temp/ipykernel_15020/2513519730.py:57: UserWarning: Matplotlib is currently using pgf, which is a non-GUI backend, so cannot show the figure.\n",
      "  plt.show()\n"
     ]
    }
   ],
   "source": [
    "labels = data_to_viz_condom[slice(None), \"male\", \"used last time\"].index\n",
    "men_means = data_to_viz_condom[slice(None), \"male\", \"used last time\"].values.round(2)\n",
    "women_means = data_to_viz_condom[slice(None), \"female\", \"used last time\"].values.round(\n",
    "    2\n",
    ")\n",
    "\n",
    "x = labels  # the label locations\n",
    "width = 0.7  # the width of the bars\n",
    "\n",
    "fig, axes = plt.subplots()\n",
    "rects1 = axes.bar(x - width / 2, men_means, width, label=\"Férfi\")\n",
    "rects2 = axes.bar(x + width / 2, women_means, width, label=\"Nő\")\n",
    "\n",
    "axes.set_xticks(x)\n",
    "\n",
    "axes_2 = axes.twinx()\n",
    "axes_2.plot(\n",
    "    (data_to_viz_porn_amateur / data_to_viz_porn).index,\n",
    "    (data_to_viz_porn_amateur / data_to_viz_porn),\n",
    "    label=\"Amatőr arány\",\n",
    "    color=\"black\",\n",
    ")\n",
    "\n",
    "fig.set_size_inches(w=6.30045, h=6.30045 / 4)\n",
    "\n",
    "axes.legend(\n",
    "    bbox_to_anchor=(0, -0.5, 1, 0.2),\n",
    "    loc=\"center\",\n",
    "    ncol=2,\n",
    "    framealpha=0,\n",
    "    borderaxespad=0,\n",
    "    \n",
    ")\n",
    "\n",
    "axes.bar_label(\n",
    "    rects1,\n",
    "    padding=0,\n",
    "    fontsize=8,\n",
    "    label_type=\"center\",\n",
    "    color=\"white\",\n",
    "    rotation=90,\n",
    "#     fmt=\"%.2f%%\",\n",
    ")\n",
    "axes.bar_label(\n",
    "    rects2,\n",
    "    padding=0,\n",
    "    fontsize=8,\n",
    "    label_type=\"center\",\n",
    "    color=\"white\",\n",
    "    rotation=90,\n",
    "#     fmt=\"%.2f%%\",\n",
    ")\n",
    "\n",
    "axes.set_ylabel(\"Óvszerhasználat(%)\")\n",
    "axes_2.set_ylabel(\"Amatőr \\nvideó (%)\")\n",
    "\n",
    "plt.show()"
   ]
  },
  {
   "cell_type": "code",
   "execution_count": 11,
   "id": "214a43ae",
   "metadata": {
    "ExecuteTime": {
     "end_time": "2021-12-19T15:42:03.571984Z",
     "start_time": "2021-12-19T15:42:03.255093Z"
    }
   },
   "outputs": [],
   "source": [
    "fig.savefig(Path('./figures/condom_amateur.pgf'), bbox_inches='tight')"
   ]
  },
  {
   "cell_type": "markdown",
   "id": "1553677b",
   "metadata": {},
   "source": [
    "# Harrastment and porn"
   ]
  },
  {
   "cell_type": "code",
   "execution_count": 12,
   "id": "0c7bba26",
   "metadata": {
    "ExecuteTime": {
     "end_time": "2021-12-19T15:42:03.635058Z",
     "start_time": "2021-12-19T15:42:03.571984Z"
    }
   },
   "outputs": [],
   "source": [
    "data_to_viz_harrastment = (\n",
    "    gss_table\n",
    "#     .assign(year = lambda df: df['year'].apply(lambda x: datetime(x, 1,1)))\n",
    "    .groupby([\"year\", \"sex\", \"wkharsex\"])\n",
    "    .agg(count=(\"id\", \"count\"))\n",
    "    .pipe(\n",
    "        lambda df: df.reset_index()\n",
    "        .set_index([\"year\", \"sex\"])\n",
    "        .join(df.reset_index().groupby([\"year\", \"sex\"]).agg(total=(\"count\", \"sum\")))\n",
    "    )\n",
    "    .assign(ratio=lambda df: df[\"count\"] / df[\"total\"])\n",
    "    .set_index('wkharsex', append=True)\n",
    "    ['ratio']\n",
    "    [lambda x: ~x.isna()]\n",
    ")"
   ]
  },
  {
   "cell_type": "code",
   "execution_count": 13,
   "id": "20ae72f9",
   "metadata": {
    "ExecuteTime": {
     "end_time": "2021-12-19T15:42:33.732628Z",
     "start_time": "2021-12-19T15:42:03.635058Z"
    }
   },
   "outputs": [],
   "source": [
    "data_to_viz_porn_hardcore = (\n",
    "    video_table.join(category_table)[lambda df: df[\"category\"] == \"Hardcore\"]\n",
    "    .groupby(level=0)\n",
    "    .first()\n",
    "    .pipe(\n",
    "        lambda table: table.groupby(\"date_m\")\n",
    "        .first()\n",
    "        .index.to_series()\n",
    "        .apply(\n",
    "            lambda date: (\n",
    "                table[lambda df: df[\"date_m\"] <= date][\"view_per_traffic\"]\n",
    "                * traffic_table[lambda df: df.index.to_series() == date][\n",
    "                    \"traffic_usa\"\n",
    "                ].sum()\n",
    "            ).sum()\n",
    "        )\n",
    "        .to_frame()\n",
    "        .assign(\n",
    "            year=lambda df: df.index.to_series().dt.year,\n",
    "            month=lambda df: df.index.to_series().dt.month,\n",
    "        )\n",
    "        .pipe(lambda df: pd.merge(df, population_table, on=[\"year\", \"month\"]))\n",
    "        .groupby(\"year\")\n",
    "        .agg(views=(\"date_m\", \"sum\"), population=(\"population\", \"mean\"))\n",
    "        .assign(views_pop=lambda df: df[\"views\"] / df[\"population\"])[\"views_pop\"]\n",
    "    )\n",
    ")"
   ]
  },
  {
   "cell_type": "code",
   "execution_count": 14,
   "id": "ec72625f",
   "metadata": {
    "ExecuteTime": {
     "end_time": "2021-12-19T15:42:33.945143Z",
     "start_time": "2021-12-19T15:42:33.736628Z"
    },
    "scrolled": true
   },
   "outputs": [
    {
     "name": "stderr",
     "output_type": "stream",
     "text": [
      "C:\\Users\\papse\\AppData\\Local\\Temp/ipykernel_15020/406879670.py:53: UserWarning: Matplotlib is currently using pgf, which is a non-GUI backend, so cannot show the figure.\n",
      "  plt.show()\n"
     ]
    }
   ],
   "source": [
    "labels = data_to_viz_harrastment[slice(None), 'male', 'yes'].index\n",
    "men_means = data_to_viz_harrastment[slice(None), 'male', 'yes'].values.round(2)\n",
    "women_means = data_to_viz_harrastment[slice(None), 'female', 'yes'].values.round(2)\n",
    "\n",
    "x = labels  # the label locations\n",
    "width = 0.7  # the width of the bars\n",
    "\n",
    "fig, axes = plt.subplots(figsize=[16, 4])\n",
    "rects1 = axes.bar(x - width / 2, men_means, width, label=\"Férfi\")\n",
    "rects2 = axes.bar(x + width / 2, women_means, width, label=\"Nő\")\n",
    "\n",
    "axes.set_xticks(x)\n",
    "\n",
    "axes_2 = axes.twinx()\n",
    "axes_2.plot((data_to_viz_porn_hardcore / data_to_viz_porn).index, (data_to_viz_porn_hardcore / data_to_viz_porn), label = 'Hardcore arány', color = 'black')\n",
    "\n",
    "fig.set_size_inches(w=6.30045, h=6.30045 / 4)\n",
    "\n",
    "axes.legend(\n",
    "    bbox_to_anchor=(0, -0.5, 1, 0.2),\n",
    "    loc=\"center\",\n",
    "    ncol=2,\n",
    "    framealpha=0,\n",
    "    borderaxespad=0,\n",
    "    \n",
    ")\n",
    "\n",
    "axes.ticklabel_format(style=\"sci\", axis=\"y\", scilimits=(0, 0))\n",
    "axes_2.ticklabel_format(style=\"sci\", axis=\"y\", scilimits=(0, 0))\n",
    "\n",
    "axes.bar_label(\n",
    "    rects1,\n",
    "    padding=0,\n",
    "    fontsize=8,\n",
    "    label_type=\"center\",\n",
    "    color=\"white\",\n",
    "    rotation=90,\n",
    "#     fmt=\"%.2f%%\",\n",
    ")\n",
    "axes.bar_label(\n",
    "    rects2,\n",
    "    padding=0,\n",
    "    fontsize=8,\n",
    "    label_type=\"center\",\n",
    "    color=\"white\",\n",
    "    rotation=90,\n",
    "#     fmt=\"%.2f%%\",\n",
    ")\n",
    "\n",
    "axes.set_ylabel(\"Munkahelyi \\nzaklatás (%)\")\n",
    "axes_2.set_ylabel(\"Hardcore\\nvideó (%)\")\n",
    "\n",
    "plt.show()"
   ]
  },
  {
   "cell_type": "code",
   "execution_count": 15,
   "id": "96d11aff",
   "metadata": {
    "ExecuteTime": {
     "end_time": "2021-12-19T15:42:34.283528Z",
     "start_time": "2021-12-19T15:42:33.951140Z"
    }
   },
   "outputs": [],
   "source": [
    "fig.savefig(Path('./figures/harrasment_hardcore.pgf'), bbox_inches='tight')"
   ]
  },
  {
   "cell_type": "markdown",
   "id": "703a2f84",
   "metadata": {},
   "source": [
    "# Homosexuality and porn"
   ]
  },
  {
   "cell_type": "code",
   "execution_count": 16,
   "id": "c6a0baab",
   "metadata": {
    "ExecuteTime": {
     "end_time": "2021-12-19T15:42:34.377284Z",
     "start_time": "2021-12-19T15:42:34.283528Z"
    }
   },
   "outputs": [],
   "source": [
    "data_to_viz_homosex = (\n",
    "    gss_table\n",
    "#     .assign(year = lambda df: df['year'].apply(lambda x: datetime(x, 1,1)))\n",
    "    .groupby([\"year\", \"sex\", \"sexornt\"])\n",
    "    .agg(count=(\"id\", \"count\"))\n",
    "    .pipe(\n",
    "        lambda df: df.reset_index()\n",
    "        .set_index([\"year\", \"sex\"])\n",
    "        .join(df.reset_index().groupby([\"year\", \"sex\"]).agg(total=(\"count\", \"sum\")))\n",
    "    )\n",
    "    .assign(ratio=lambda df: df[\"count\"] / df[\"total\"])\n",
    "    .set_index('sexornt', append=True)\n",
    "    ['ratio']\n",
    "    [lambda x: ~x.isna()]\n",
    ")"
   ]
  },
  {
   "cell_type": "code",
   "execution_count": 17,
   "id": "bfe0ecbb",
   "metadata": {
    "ExecuteTime": {
     "end_time": "2021-12-19T15:43:07.046910Z",
     "start_time": "2021-12-19T15:42:34.377284Z"
    }
   },
   "outputs": [],
   "source": [
    "data_to_viz_porn_homosex = (\n",
    "    video_table.join(category_table)[lambda df: df[\"category\"].isin([\"Lesbian\", \"Gay\"])]\n",
    "    .groupby(level=0)\n",
    "    .first()\n",
    "    .pipe(\n",
    "        lambda table: table.groupby(\"date_m\")\n",
    "        .first()\n",
    "        .index.to_series()\n",
    "        .apply(\n",
    "            lambda date: (\n",
    "                table[lambda df: df[\"date_m\"] <= date][\"view_per_traffic\"]\n",
    "                * traffic_table[lambda df: df.index.to_series() == date][\n",
    "                    \"traffic_usa\"\n",
    "                ].sum()\n",
    "            ).sum()\n",
    "        )\n",
    "        .to_frame()\n",
    "        .assign(\n",
    "            year=lambda df: df.index.to_series().dt.year,\n",
    "            month=lambda df: df.index.to_series().dt.month,\n",
    "        )\n",
    "        .pipe(lambda df: pd.merge(df, population_table, on=[\"year\", \"month\"]))\n",
    "        .groupby(\"year\")\n",
    "        .agg(views=(\"date_m\", \"sum\"), population=(\"population\", \"mean\"))\n",
    "        .assign(views_pop=lambda df: df[\"views\"] / df[\"population\"])[\"views_pop\"]\n",
    "    )\n",
    ")"
   ]
  },
  {
   "cell_type": "code",
   "execution_count": 18,
   "id": "4cf2070d",
   "metadata": {
    "ExecuteTime": {
     "end_time": "2021-12-19T15:43:07.330863Z",
     "start_time": "2021-12-19T15:43:07.046910Z"
    },
    "scrolled": true
   },
   "outputs": [
    {
     "name": "stderr",
     "output_type": "stream",
     "text": [
      "C:\\Users\\papse\\AppData\\Local\\Temp/ipykernel_15020/2256555322.py:56: UserWarning: Matplotlib is currently using pgf, which is a non-GUI backend, so cannot show the figure.\n",
      "  plt.show()\n"
     ]
    }
   ],
   "source": [
    "labels = data_to_viz_homosex.loc[pd.IndexSlice[:, 'male', 'gay, lesbian, or homosexual']].index\n",
    "men_means = data_to_viz_homosex.loc[pd.IndexSlice[:, 'male', ['gay, lesbian, or homosexual', 'bisexual']]].groupby(['year', 'sex']).sum().values.round(2)\n",
    "women_means = data_to_viz_homosex.loc[pd.IndexSlice[:, 'female', ['gay, lesbian, or homosexual', 'bisexual']]].groupby(['year', 'sex']).sum().values.round(2)\n",
    "\n",
    "x = labels  # the label locations\n",
    "width = 0.7  # the width of the bars\n",
    "\n",
    "fig, axes = plt.subplots(figsize=[16, 4])\n",
    "rects1 = axes.bar(x - width / 2, men_means, width, label=\"Férfi\")\n",
    "rects2 = axes.bar(x + width / 2, women_means, width, label=\"Nő\")\n",
    "\n",
    "axes.set_xticks(x)\n",
    "\n",
    "axes_2 = axes.twinx()\n",
    "axes_2.plot((data_to_viz_porn_homosex / data_to_viz_porn).index, (data_to_viz_porn_homosex / data_to_viz_porn), label = 'Homoszexuális arány', color = 'black')\n",
    "\n",
    "\n",
    "fig.set_size_inches(w=6.30045, h=6.30045 / 4)\n",
    "\n",
    "axes.legend(\n",
    "    bbox_to_anchor=(0, -0.5, 1, 0.2),\n",
    "    loc=\"center\",\n",
    "    ncol=2,\n",
    "    framealpha=0,\n",
    "    borderaxespad=0,\n",
    "    \n",
    ")\n",
    "\n",
    "\n",
    "axes.ticklabel_format(style=\"sci\", axis=\"y\", scilimits=(0, 0))\n",
    "axes_2.ticklabel_format(style=\"sci\", axis=\"y\", scilimits=(0, 0))\n",
    "\n",
    "\n",
    "axes.bar_label(\n",
    "    rects1,\n",
    "    padding=0,\n",
    "    fontsize=8,\n",
    "    label_type=\"center\",\n",
    "    color=\"white\",\n",
    "    rotation=90,\n",
    "#     fmt=\"%.2f%%\",\n",
    ")\n",
    "axes.bar_label(\n",
    "    rects2,\n",
    "    padding=0,\n",
    "    fontsize=8,\n",
    "    label_type=\"center\",\n",
    "    color=\"white\",\n",
    "    rotation=90,\n",
    "#     fmt=\"%.2f%%\",\n",
    ")\n",
    "\n",
    "axes.set_ylabel(\"Homoszexualitás (%)\")\n",
    "axes_2.set_ylabel(\"Homoszexuális\\nvideó (%)\")\n",
    "\n",
    "plt.show()"
   ]
  },
  {
   "cell_type": "code",
   "execution_count": 19,
   "id": "6035a9d1",
   "metadata": {
    "ExecuteTime": {
     "end_time": "2021-12-19T15:43:07.610626Z",
     "start_time": "2021-12-19T15:43:07.330863Z"
    }
   },
   "outputs": [],
   "source": [
    "fig.savefig(Path('./figures/homosexuality_homosexual.pgf'), bbox_inches='tight')"
   ]
  }
 ],
 "metadata": {
  "kernelspec": {
   "display_name": "Python 3 (ipykernel)",
   "language": "python",
   "name": "python3"
  },
  "language_info": {
   "codemirror_mode": {
    "name": "ipython",
    "version": 3
   },
   "file_extension": ".py",
   "mimetype": "text/x-python",
   "name": "python",
   "nbconvert_exporter": "python",
   "pygments_lexer": "ipython3",
   "version": "3.9.6"
  },
  "latex_envs": {
   "LaTeX_envs_menu_present": true,
   "autoclose": false,
   "autocomplete": true,
   "bibliofile": "biblio.bib",
   "cite_by": "apalike",
   "current_citInitial": 1,
   "eqLabelWithNumbers": true,
   "eqNumInitial": 1,
   "hotkeys": {
    "equation": "Ctrl-E",
    "itemize": "Ctrl-I"
   },
   "labels_anchors": false,
   "latex_user_defs": false,
   "report_style_numbering": false,
   "user_envs_cfg": false
  },
  "toc": {
   "base_numbering": 1,
   "nav_menu": {},
   "number_sections": true,
   "sideBar": true,
   "skip_h1_title": false,
   "title_cell": "Table of Contents",
   "title_sidebar": "Contents",
   "toc_cell": false,
   "toc_position": {
    "height": "calc(100% - 180px)",
    "left": "10px",
    "top": "150px",
    "width": "320px"
   },
   "toc_section_display": true,
   "toc_window_display": true
  }
 },
 "nbformat": 4,
 "nbformat_minor": 5
}
